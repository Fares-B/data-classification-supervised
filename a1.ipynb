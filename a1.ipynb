{
  "cells": [
    {
      "cell_type": "markdown",
      "id": "ca237643",
      "metadata": {
        "id": "ca237643"
      },
      "source": [
        "# Cours 8 - Clustering"
      ]
    },
    {
      "cell_type": "markdown",
      "id": "82032127",
      "metadata": {
        "id": "82032127"
      },
      "source": [
        "Dans les cours précédents nous avons pu explorer les techniques de machine learning supervisé, aujourd'hui nous allons explorer les techniques de machine learning non-supervisé grâce au clustering. \n",
        "Le but du cours sera donc d'identifier un certain nombre de groupes sur des données non labélisées."
      ]
    },
    {
      "cell_type": "markdown",
      "id": "89f60ed5",
      "metadata": {
        "id": "89f60ed5"
      },
      "source": [
        "Sources:\n",
        "* https://www.youtube.com/watch?v=mEGYznC6F9s \n",
        "* https://www.kaggle.com/code/prashant111/k-means-clustering-with-python/notebook\n",
        "* https://www.youtube.com/watch?v=_UVHneBUBW0\n",
        "* https://www.youtube.com/watch?v=FD4DeN81ODY\n",
        "* https://www.datasklr.com/principal-component-analysis-and-factor-analysis/principal-component-analysis"
      ]
    },
    {
      "cell_type": "markdown",
      "id": "91c02695",
      "metadata": {
        "id": "91c02695"
      },
      "source": [
        "## Partie 1 - K-means Clustering\n",
        "\n",
        "Tout d'abord explorons le fonctionnement du clustering avec l'algorithme K-means. "
      ]
    },
    {
      "cell_type": "markdown",
      "id": "4f307e99",
      "metadata": {
        "id": "4f307e99"
      },
      "source": [
        "**Exercice 1:** A partir de la documentation [sklearn](https://scikit-learn.org/stable/modules/generated/sklearn.cluster.KMeans.html), décrivez avec vos mots les paramètres principaux de l'algorithme K-means."
      ]
    },
    {
      "cell_type": "code",
      "execution_count": null,
      "id": "965d7392",
      "metadata": {
        "id": "965d7392"
      },
      "outputs": [],
      "source": []
    },
    {
      "cell_type": "markdown",
      "id": "7c4baa87",
      "metadata": {
        "id": "7c4baa87"
      },
      "source": [
        "**Exercice 2:** A partir du [dataset sur le cancer du sein](https://www.kaggle.com/datasets/uciml/breast-cancer-wisconsin-data), entrainez un algorithme K-means en 2 dimensions sur les colonnes `smoothness-mean` et `area_worst`. Présentez un scatterplot montrant les clusters que l'agorithme à identifié ainsi que les centroides des clusters. Présentez également les paramètres utilisés pour entrainer le modèle. "
      ]
    },
    {
      "cell_type": "code",
      "execution_count": null,
      "id": "a4c99b53",
      "metadata": {
        "id": "a4c99b53"
      },
      "outputs": [],
      "source": []
    },
    {
      "cell_type": "markdown",
      "id": "ebffad8f",
      "metadata": {
        "id": "ebffad8f"
      },
      "source": [
        "## Partie 2 - Elbow Method\n",
        "Dans cette partie nous allons explorer la elbow method qui nous permettera de choisir quel nombre de clusters semble optimal. "
      ]
    },
    {
      "cell_type": "markdown",
      "id": "0a642625",
      "metadata": {
        "id": "0a642625"
      },
      "source": [
        "**Exercice 3:** Creez un line plot nous montrant l'évolution de la distortion du modèles selon le nombre de clusters choisis. L'attribut du modèle `intertia_` sera surement utile. \n",
        "Quel semble le meilleur nombre de clusters pour nos données ?"
      ]
    },
    {
      "cell_type": "code",
      "execution_count": null,
      "id": "164dee56",
      "metadata": {
        "id": "164dee56"
      },
      "outputs": [],
      "source": []
    },
    {
      "cell_type": "markdown",
      "id": "f5af1281",
      "metadata": {
        "id": "f5af1281"
      },
      "source": [
        "**Exercice 4:** Réitérez l'exercice 2 avec le nombre de clusters optimal trouvez grâce à l'elbow method."
      ]
    },
    {
      "cell_type": "code",
      "execution_count": null,
      "id": "9f57945c",
      "metadata": {
        "id": "9f57945c"
      },
      "outputs": [],
      "source": []
    },
    {
      "cell_type": "markdown",
      "id": "35659703",
      "metadata": {
        "id": "35659703"
      },
      "source": [
        "## Partie 3 - Principal Component Analysis (PCA)"
      ]
    },
    {
      "cell_type": "markdown",
      "id": "4187ca67",
      "metadata": {
        "id": "4187ca67"
      },
      "source": [
        "Comme nous sommes dans des cas les données ne sont pas labélisés nous avons très peu de moyen d'évaluer si nos clusters semblent pertinents à part la visualisations graphique de nos clusters. \n",
        "Or nous aimerions fortement pourvoir prendre en compte plus de données que seulement 2 colonnes pour créer nos clusters. \n",
        "Pour cela nous pouvons utiliser la PCA qui est une technique de réduction de dimensionalités."
      ]
    },
    {
      "cell_type": "markdown",
      "id": "c342cee9",
      "metadata": {
        "id": "c342cee9"
      },
      "source": [
        "**Exercice 5**: Appliquez une [PCA](https://scikit-learn.org/stable/modules/generated/sklearn.decomposition.PCA.html) à toutes les colonnes possibles de notre dataset puis affichez un scatterplot des PC1 et PC2."
      ]
    },
    {
      "cell_type": "code",
      "execution_count": null,
      "id": "0a3a22ea",
      "metadata": {
        "id": "0a3a22ea"
      },
      "outputs": [],
      "source": []
    },
    {
      "cell_type": "markdown",
      "id": "dd161861",
      "metadata": {
        "id": "dd161861"
      },
      "source": [
        "**Exercice 6**: Grâce à l'extrait de code suivant affichez un bar plot de l'influence de chaque colonne sur le PC1 puis sur le PC2.       \n",
        "Quelles sont donc les 2 colonnes ayant le plus d'importance ? "
      ]
    },
    {
      "cell_type": "code",
      "execution_count": null,
      "id": "e4f59cb5",
      "metadata": {
        "id": "e4f59cb5"
      },
      "outputs": [],
      "source": [
        "loadings = pd.DataFrame(\n",
        "    data=pca.components_.T * np.sqrt(pca.explained_variance_), \n",
        "    columns=[f'PC{i}' for i in range(1, len(X.columns) + 1)],\n",
        "    index=X.columns\n",
        ")\n",
        "loadings"
      ]
    },
    {
      "cell_type": "code",
      "execution_count": null,
      "id": "7b15c3b7",
      "metadata": {
        "id": "7b15c3b7"
      },
      "outputs": [],
      "source": []
    },
    {
      "cell_type": "markdown",
      "id": "dbf68d81",
      "metadata": {
        "id": "dbf68d81"
      },
      "source": [
        "Avant de pouvoir entrainer un algorithme de K-means sur nos données isues de PCA nous voulons tout de même confirmer que nos pC1 et PC2 nous permettent d'exprimer la majoriter de la variance de notre dataset.\n",
        "Pour cela nous pouvons creer un \"scree plot\". Un scree plot est un diagramme qui exprime la quantité de variance exprimée pour chaqune des composantes principales."
      ]
    },
    {
      "cell_type": "markdown",
      "id": "60c63b7c",
      "metadata": {
        "id": "60c63b7c"
      },
      "source": [
        "**Exercice 7:** Creez un scree plot de nos composantes principales. L'attribut `explained_variance_ratio_` de notre objet pca pourra être utile.         \n",
        "Est-ce que se concentrer sur les 2 premières PC est suffisant ?"
      ]
    },
    {
      "cell_type": "code",
      "execution_count": null,
      "id": "d1c2d710",
      "metadata": {
        "id": "d1c2d710"
      },
      "outputs": [],
      "source": []
    },
    {
      "cell_type": "markdown",
      "id": "add450a6",
      "metadata": {
        "id": "add450a6"
      },
      "source": [
        "**Exercice 8:** Appliquez une PCA en précisant le nombre de composantes principales voulues (`n_components`).     \n",
        "Puis ensuite entrainez un algorithme K-means sur vos données issues de la PCA. \n",
        "Avez vous séléctionné le bon nombre de clusters grâce à l'elbow method ? \n",
        "Présentez un scatterplot montrant les clusters que l'agorithme à identifié ainsi que les centroides des clusters.    Présentez également les paramètres utilisés pour entrainer le modèle.    "
      ]
    },
    {
      "cell_type": "code",
      "execution_count": null,
      "id": "06e94787",
      "metadata": {
        "id": "06e94787"
      },
      "outputs": [],
      "source": []
    },
    {
      "cell_type": "markdown",
      "id": "dca7bc50",
      "metadata": {
        "id": "dca7bc50"
      },
      "source": [
        "## Partie 4 - Evaluation\n",
        "Comme nous sommes dans un cas particulier ou nous avons des données labélisées à l'originie, nous pouvons évaluer la performance de nos clustering. "
      ]
    },
    {
      "cell_type": "markdown",
      "id": "9feb025e",
      "metadata": {
        "id": "9feb025e"
      },
      "source": [
        "**Exercice 9:** Comparez le scatter plot issu de l'exercice 2 vs. le scatterplot des donnés avec leur vrais labels.    \n",
        "Que remarquez vous ?   \n",
        "Vous pouvez également calculer l'accuracy, la confusion matrix et le F1 score du K-means issu de l'exercice 2 par rapport aux vrais labels.    \n",
        "Quelles sont leur valeurs ? "
      ]
    },
    {
      "cell_type": "code",
      "execution_count": null,
      "id": "913a5510",
      "metadata": {
        "id": "913a5510"
      },
      "outputs": [],
      "source": []
    },
    {
      "cell_type": "markdown",
      "id": "1c8f2b6f",
      "metadata": {
        "id": "1c8f2b6f"
      },
      "source": [
        "**Exercice 10:** Comparez le scatter plot issu de l'exercice 8 vs. le scatterplot des donnés avec leur vrais labels.    \n",
        "Que remarquez vous ?   \n",
        "Vous pouvez également calculer l'accuracy, la confusion matrix et le F1 score du K-means issu de l'exercice 8 par rapport aux vrais labels.    \n",
        "Quelles sont leur valeurs ? "
      ]
    },
    {
      "cell_type": "code",
      "execution_count": null,
      "id": "0e771453",
      "metadata": {
        "id": "0e771453"
      },
      "outputs": [],
      "source": []
    },
    {
      "cell_type": "markdown",
      "id": "443f0e3d",
      "metadata": {
        "id": "443f0e3d"
      },
      "source": [
        "**Exercice 11:** Pour conclure, quelle pipeline de clustering performe le mieux ? Le clustering de l'exercice 2 ou bien le clustering de l'exercice 9"
      ]
    },
    {
      "cell_type": "code",
      "execution_count": null,
      "id": "a88c534e",
      "metadata": {
        "id": "a88c534e"
      },
      "outputs": [],
      "source": []
    },
    {
      "cell_type": "markdown",
      "id": "44a272fb",
      "metadata": {
        "id": "44a272fb"
      },
      "source": [
        "## Bonus "
      ]
    },
    {
      "cell_type": "markdown",
      "id": "59342862",
      "metadata": {
        "id": "59342862"
      },
      "source": [
        "**Bonus 1:** Entrainez vos compétences algorithmiques en python et recodez l'algorithme K-means !"
      ]
    },
    {
      "cell_type": "markdown",
      "id": "2982f5a4",
      "metadata": {
        "id": "2982f5a4"
      },
      "source": [
        "**Bonus 2:** Il existe bien d'autres algorithmes de clustering que l'algorithme K-means, testez ces algorithmes et trouvez le meilleur algorithme pour notre problème !        \n",
        "Cet article devrait vous aider:\n",
        "https://nbviewer.org/github/scikit-learn-contrib/hdbscan/blob/master/notebooks/Comparing%20Clustering%20Algorithms.ipynb"
      ]
    },
    {
      "cell_type": "code",
      "execution_count": null,
      "id": "df8ac62f",
      "metadata": {
        "id": "df8ac62f"
      },
      "outputs": [],
      "source": []
    }
  ],
  "metadata": {
    "kernelspec": {
      "display_name": "Python 3 (ipykernel)",
      "language": "python",
      "name": "python3"
    },
    "language_info": {
      "codemirror_mode": {
        "name": "ipython",
        "version": 3
      },
      "file_extension": ".py",
      "mimetype": "text/x-python",
      "name": "python",
      "nbconvert_exporter": "python",
      "pygments_lexer": "ipython3",
      "version": "3.9.12"
    },
    "colab": {
      "provenance": []
    }
  },
  "nbformat": 4,
  "nbformat_minor": 5
}