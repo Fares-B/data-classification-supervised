{
  "cells": [
    {
      "cell_type": "markdown",
      "id": "c209bc7d",
      "metadata": {
        "id": "c209bc7d"
      },
      "source": [
        "# Cours 5 - Classification Binaire Supervisée\n",
        "Camille Duquesne - TCF3 - 2022"
      ]
    },
    {
      "cell_type": "markdown",
      "id": "98c2bbdf",
      "metadata": {
        "id": "98c2bbdf"
      },
      "source": [
        "Dans ce cours nous aborderons le sujet des métriques d'évaluations pour un projet de ML de classification binaire supervise.\n",
        "Nous verrons ensuite les concepts d'underfitting et overfitting, comment les reconnaitre et comment pallier à cela."
      ]
    },
    {
      "cell_type": "markdown",
      "id": "500b9104",
      "metadata": {
        "id": "500b9104"
      },
      "source": [
        "Sources:\n",
        "* https://towardsdatascience.com/overfitting-vs-underfitting-a-complete-example-d05dd7e19765\n",
        "* https://corporatefinanceinstitute.com/resources/data-science/overfitting/\n",
        "* https://machinelearningmastery.com/overfitting-machine-learning-models/\n",
        "* https://www.jeremyjordan.me/evaluating-a-machine-learning-model/\n",
        "* https://neptune.ai/blog/evaluation-metrics-binary-classification\n",
        "* https://thedigitalskye.com/2021/04/19/6-useful-metrics-to-evaluate-binary-classification-models/\n",
        "* https://towardsdatascience.com/performance-metrics-for-binary-classifier-in-simple-words-be958535db49"
      ]
    },
    {
      "cell_type": "markdown",
      "id": "07ca9e1e",
      "metadata": {
        "id": "07ca9e1e"
      },
      "source": [
        "---"
      ]
    },
    {
      "cell_type": "markdown",
      "id": "2dab2d52",
      "metadata": {
        "id": "2dab2d52"
      },
      "source": [
        "### 1.1 Data Cleaning"
      ]
    },
    {
      "cell_type": "markdown",
      "id": "067c4c69",
      "metadata": {
        "id": "067c4c69"
      },
      "source": [
        "Chargeons nos données :"
      ]
    },
    {
      "cell_type": "code",
      "execution_count": null,
      "id": "1a324b56",
      "metadata": {
        "colab": {
          "base_uri": "https://localhost:8080/",
          "height": 424
        },
        "id": "1a324b56",
        "outputId": "c1a03cfc-f243-43cb-a2f1-49b08fd742a6"
      },
      "outputs": [
        {
          "data": {
            "text/html": [
              "\n",
              "  <div id=\"df-95be092f-84ce-4f3b-ae48-360c843d28c1\">\n",
              "    <div class=\"colab-df-container\">\n",
              "      <div>\n",
              "<style scoped>\n",
              "    .dataframe tbody tr th:only-of-type {\n",
              "        vertical-align: middle;\n",
              "    }\n",
              "\n",
              "    .dataframe tbody tr th {\n",
              "        vertical-align: top;\n",
              "    }\n",
              "\n",
              "    .dataframe thead th {\n",
              "        text-align: right;\n",
              "    }\n",
              "</style>\n",
              "<table border=\"1\" class=\"dataframe\">\n",
              "  <thead>\n",
              "    <tr style=\"text-align: right;\">\n",
              "      <th></th>\n",
              "      <th>PassengerId</th>\n",
              "      <th>Survived</th>\n",
              "      <th>Pclass</th>\n",
              "      <th>Name</th>\n",
              "      <th>Sex</th>\n",
              "      <th>Age</th>\n",
              "      <th>SibSp</th>\n",
              "      <th>Parch</th>\n",
              "      <th>Ticket</th>\n",
              "      <th>Fare</th>\n",
              "      <th>Cabin</th>\n",
              "      <th>Embarked</th>\n",
              "    </tr>\n",
              "  </thead>\n",
              "  <tbody>\n",
              "    <tr>\n",
              "      <th>0</th>\n",
              "      <td>1</td>\n",
              "      <td>0</td>\n",
              "      <td>3</td>\n",
              "      <td>Braund, Mr. Owen Harris</td>\n",
              "      <td>male</td>\n",
              "      <td>22.0</td>\n",
              "      <td>1</td>\n",
              "      <td>0</td>\n",
              "      <td>A/5 21171</td>\n",
              "      <td>7.2500</td>\n",
              "      <td>NaN</td>\n",
              "      <td>S</td>\n",
              "    </tr>\n",
              "    <tr>\n",
              "      <th>1</th>\n",
              "      <td>2</td>\n",
              "      <td>1</td>\n",
              "      <td>1</td>\n",
              "      <td>Cumings, Mrs. John Bradley (Florence Briggs Th...</td>\n",
              "      <td>female</td>\n",
              "      <td>38.0</td>\n",
              "      <td>1</td>\n",
              "      <td>0</td>\n",
              "      <td>PC 17599</td>\n",
              "      <td>71.2833</td>\n",
              "      <td>C85</td>\n",
              "      <td>C</td>\n",
              "    </tr>\n",
              "    <tr>\n",
              "      <th>2</th>\n",
              "      <td>3</td>\n",
              "      <td>1</td>\n",
              "      <td>3</td>\n",
              "      <td>Heikkinen, Miss. Laina</td>\n",
              "      <td>female</td>\n",
              "      <td>26.0</td>\n",
              "      <td>0</td>\n",
              "      <td>0</td>\n",
              "      <td>STON/O2. 3101282</td>\n",
              "      <td>7.9250</td>\n",
              "      <td>NaN</td>\n",
              "      <td>S</td>\n",
              "    </tr>\n",
              "    <tr>\n",
              "      <th>3</th>\n",
              "      <td>4</td>\n",
              "      <td>1</td>\n",
              "      <td>1</td>\n",
              "      <td>Futrelle, Mrs. Jacques Heath (Lily May Peel)</td>\n",
              "      <td>female</td>\n",
              "      <td>35.0</td>\n",
              "      <td>1</td>\n",
              "      <td>0</td>\n",
              "      <td>113803</td>\n",
              "      <td>53.1000</td>\n",
              "      <td>C123</td>\n",
              "      <td>S</td>\n",
              "    </tr>\n",
              "    <tr>\n",
              "      <th>4</th>\n",
              "      <td>5</td>\n",
              "      <td>0</td>\n",
              "      <td>3</td>\n",
              "      <td>Allen, Mr. William Henry</td>\n",
              "      <td>male</td>\n",
              "      <td>35.0</td>\n",
              "      <td>0</td>\n",
              "      <td>0</td>\n",
              "      <td>373450</td>\n",
              "      <td>8.0500</td>\n",
              "      <td>NaN</td>\n",
              "      <td>S</td>\n",
              "    </tr>\n",
              "    <tr>\n",
              "      <th>...</th>\n",
              "      <td>...</td>\n",
              "      <td>...</td>\n",
              "      <td>...</td>\n",
              "      <td>...</td>\n",
              "      <td>...</td>\n",
              "      <td>...</td>\n",
              "      <td>...</td>\n",
              "      <td>...</td>\n",
              "      <td>...</td>\n",
              "      <td>...</td>\n",
              "      <td>...</td>\n",
              "      <td>...</td>\n",
              "    </tr>\n",
              "    <tr>\n",
              "      <th>886</th>\n",
              "      <td>887</td>\n",
              "      <td>0</td>\n",
              "      <td>2</td>\n",
              "      <td>Montvila, Rev. Juozas</td>\n",
              "      <td>male</td>\n",
              "      <td>27.0</td>\n",
              "      <td>0</td>\n",
              "      <td>0</td>\n",
              "      <td>211536</td>\n",
              "      <td>13.0000</td>\n",
              "      <td>NaN</td>\n",
              "      <td>S</td>\n",
              "    </tr>\n",
              "    <tr>\n",
              "      <th>887</th>\n",
              "      <td>888</td>\n",
              "      <td>1</td>\n",
              "      <td>1</td>\n",
              "      <td>Graham, Miss. Margaret Edith</td>\n",
              "      <td>female</td>\n",
              "      <td>19.0</td>\n",
              "      <td>0</td>\n",
              "      <td>0</td>\n",
              "      <td>112053</td>\n",
              "      <td>30.0000</td>\n",
              "      <td>B42</td>\n",
              "      <td>S</td>\n",
              "    </tr>\n",
              "    <tr>\n",
              "      <th>888</th>\n",
              "      <td>889</td>\n",
              "      <td>0</td>\n",
              "      <td>3</td>\n",
              "      <td>Johnston, Miss. Catherine Helen \"Carrie\"</td>\n",
              "      <td>female</td>\n",
              "      <td>NaN</td>\n",
              "      <td>1</td>\n",
              "      <td>2</td>\n",
              "      <td>W./C. 6607</td>\n",
              "      <td>23.4500</td>\n",
              "      <td>NaN</td>\n",
              "      <td>S</td>\n",
              "    </tr>\n",
              "    <tr>\n",
              "      <th>889</th>\n",
              "      <td>890</td>\n",
              "      <td>1</td>\n",
              "      <td>1</td>\n",
              "      <td>Behr, Mr. Karl Howell</td>\n",
              "      <td>male</td>\n",
              "      <td>26.0</td>\n",
              "      <td>0</td>\n",
              "      <td>0</td>\n",
              "      <td>111369</td>\n",
              "      <td>30.0000</td>\n",
              "      <td>C148</td>\n",
              "      <td>C</td>\n",
              "    </tr>\n",
              "    <tr>\n",
              "      <th>890</th>\n",
              "      <td>891</td>\n",
              "      <td>0</td>\n",
              "      <td>3</td>\n",
              "      <td>Dooley, Mr. Patrick</td>\n",
              "      <td>male</td>\n",
              "      <td>32.0</td>\n",
              "      <td>0</td>\n",
              "      <td>0</td>\n",
              "      <td>370376</td>\n",
              "      <td>7.7500</td>\n",
              "      <td>NaN</td>\n",
              "      <td>Q</td>\n",
              "    </tr>\n",
              "  </tbody>\n",
              "</table>\n",
              "<p>891 rows × 12 columns</p>\n",
              "</div>\n",
              "      <button class=\"colab-df-convert\" onclick=\"convertToInteractive('df-95be092f-84ce-4f3b-ae48-360c843d28c1')\"\n",
              "              title=\"Convert this dataframe to an interactive table.\"\n",
              "              style=\"display:none;\">\n",
              "        \n",
              "  <svg xmlns=\"http://www.w3.org/2000/svg\" height=\"24px\"viewBox=\"0 0 24 24\"\n",
              "       width=\"24px\">\n",
              "    <path d=\"M0 0h24v24H0V0z\" fill=\"none\"/>\n",
              "    <path d=\"M18.56 5.44l.94 2.06.94-2.06 2.06-.94-2.06-.94-.94-2.06-.94 2.06-2.06.94zm-11 1L8.5 8.5l.94-2.06 2.06-.94-2.06-.94L8.5 2.5l-.94 2.06-2.06.94zm10 10l.94 2.06.94-2.06 2.06-.94-2.06-.94-.94-2.06-.94 2.06-2.06.94z\"/><path d=\"M17.41 7.96l-1.37-1.37c-.4-.4-.92-.59-1.43-.59-.52 0-1.04.2-1.43.59L10.3 9.45l-7.72 7.72c-.78.78-.78 2.05 0 2.83L4 21.41c.39.39.9.59 1.41.59.51 0 1.02-.2 1.41-.59l7.78-7.78 2.81-2.81c.8-.78.8-2.07 0-2.86zM5.41 20L4 18.59l7.72-7.72 1.47 1.35L5.41 20z\"/>\n",
              "  </svg>\n",
              "      </button>\n",
              "      \n",
              "  <style>\n",
              "    .colab-df-container {\n",
              "      display:flex;\n",
              "      flex-wrap:wrap;\n",
              "      gap: 12px;\n",
              "    }\n",
              "\n",
              "    .colab-df-convert {\n",
              "      background-color: #E8F0FE;\n",
              "      border: none;\n",
              "      border-radius: 50%;\n",
              "      cursor: pointer;\n",
              "      display: none;\n",
              "      fill: #1967D2;\n",
              "      height: 32px;\n",
              "      padding: 0 0 0 0;\n",
              "      width: 32px;\n",
              "    }\n",
              "\n",
              "    .colab-df-convert:hover {\n",
              "      background-color: #E2EBFA;\n",
              "      box-shadow: 0px 1px 2px rgba(60, 64, 67, 0.3), 0px 1px 3px 1px rgba(60, 64, 67, 0.15);\n",
              "      fill: #174EA6;\n",
              "    }\n",
              "\n",
              "    [theme=dark] .colab-df-convert {\n",
              "      background-color: #3B4455;\n",
              "      fill: #D2E3FC;\n",
              "    }\n",
              "\n",
              "    [theme=dark] .colab-df-convert:hover {\n",
              "      background-color: #434B5C;\n",
              "      box-shadow: 0px 1px 3px 1px rgba(0, 0, 0, 0.15);\n",
              "      filter: drop-shadow(0px 1px 2px rgba(0, 0, 0, 0.3));\n",
              "      fill: #FFFFFF;\n",
              "    }\n",
              "  </style>\n",
              "\n",
              "      <script>\n",
              "        const buttonEl =\n",
              "          document.querySelector('#df-95be092f-84ce-4f3b-ae48-360c843d28c1 button.colab-df-convert');\n",
              "        buttonEl.style.display =\n",
              "          google.colab.kernel.accessAllowed ? 'block' : 'none';\n",
              "\n",
              "        async function convertToInteractive(key) {\n",
              "          const element = document.querySelector('#df-95be092f-84ce-4f3b-ae48-360c843d28c1');\n",
              "          const dataTable =\n",
              "            await google.colab.kernel.invokeFunction('convertToInteractive',\n",
              "                                                     [key], {});\n",
              "          if (!dataTable) return;\n",
              "\n",
              "          const docLinkHtml = 'Like what you see? Visit the ' +\n",
              "            '<a target=\"_blank\" href=https://colab.research.google.com/notebooks/data_table.ipynb>data table notebook</a>'\n",
              "            + ' to learn more about interactive tables.';\n",
              "          element.innerHTML = '';\n",
              "          dataTable['output_type'] = 'display_data';\n",
              "          await google.colab.output.renderOutput(dataTable, element);\n",
              "          const docLink = document.createElement('div');\n",
              "          docLink.innerHTML = docLinkHtml;\n",
              "          element.appendChild(docLink);\n",
              "        }\n",
              "      </script>\n",
              "    </div>\n",
              "  </div>\n",
              "  "
            ],
            "text/plain": [
              "     PassengerId  Survived  Pclass  \\\n",
              "0              1         0       3   \n",
              "1              2         1       1   \n",
              "2              3         1       3   \n",
              "3              4         1       1   \n",
              "4              5         0       3   \n",
              "..           ...       ...     ...   \n",
              "886          887         0       2   \n",
              "887          888         1       1   \n",
              "888          889         0       3   \n",
              "889          890         1       1   \n",
              "890          891         0       3   \n",
              "\n",
              "                                                  Name     Sex   Age  SibSp  \\\n",
              "0                              Braund, Mr. Owen Harris    male  22.0      1   \n",
              "1    Cumings, Mrs. John Bradley (Florence Briggs Th...  female  38.0      1   \n",
              "2                               Heikkinen, Miss. Laina  female  26.0      0   \n",
              "3         Futrelle, Mrs. Jacques Heath (Lily May Peel)  female  35.0      1   \n",
              "4                             Allen, Mr. William Henry    male  35.0      0   \n",
              "..                                                 ...     ...   ...    ...   \n",
              "886                              Montvila, Rev. Juozas    male  27.0      0   \n",
              "887                       Graham, Miss. Margaret Edith  female  19.0      0   \n",
              "888           Johnston, Miss. Catherine Helen \"Carrie\"  female   NaN      1   \n",
              "889                              Behr, Mr. Karl Howell    male  26.0      0   \n",
              "890                                Dooley, Mr. Patrick    male  32.0      0   \n",
              "\n",
              "     Parch            Ticket     Fare Cabin Embarked  \n",
              "0        0         A/5 21171   7.2500   NaN        S  \n",
              "1        0          PC 17599  71.2833   C85        C  \n",
              "2        0  STON/O2. 3101282   7.9250   NaN        S  \n",
              "3        0            113803  53.1000  C123        S  \n",
              "4        0            373450   8.0500   NaN        S  \n",
              "..     ...               ...      ...   ...      ...  \n",
              "886      0            211536  13.0000   NaN        S  \n",
              "887      0            112053  30.0000   B42        S  \n",
              "888      2        W./C. 6607  23.4500   NaN        S  \n",
              "889      0            111369  30.0000  C148        C  \n",
              "890      0            370376   7.7500   NaN        Q  \n",
              "\n",
              "[891 rows x 12 columns]"
            ]
          },
          "execution_count": 3,
          "metadata": {},
          "output_type": "execute_result"
        }
      ],
      "source": [
        "import pandas as pd\n",
        "import seaborn as sns\n",
        "import numpy as np\n",
        "from sklearn.model_selection import train_test_split\n",
        "data = pd.read_csv('data.csv')\n",
        "data"
      ]
    },
    {
      "cell_type": "code",
      "execution_count": null,
      "id": "9fGYE1381Zz-",
      "metadata": {
        "colab": {
          "base_uri": "https://localhost:8080/"
        },
        "id": "9fGYE1381Zz-",
        "outputId": "a8d229b1-1a0e-47d6-c3bb-97b95df70296"
      },
      "outputs": [
        {
          "name": "stdout",
          "output_type": "stream",
          "text": [
            "Mounted at /content/drive\n"
          ]
        }
      ],
      "source": [
        "from google.colab import drive\n",
        "drive.mount('/content/drive')"
      ]
    },
    {
      "cell_type": "markdown",
      "id": "0761d03c",
      "metadata": {
        "id": "0761d03c"
      },
      "source": [
        "Tout d'abord, nous supprimons les colonnes PassengerId, Name, Cabin et Ticket car elles ne semblent pas nous fournir d'informations pertinentes."
      ]
    },
    {
      "cell_type": "code",
      "execution_count": null,
      "id": "8aede08e",
      "metadata": {
        "colab": {
          "base_uri": "https://localhost:8080/"
        },
        "id": "8aede08e",
        "outputId": "671351af-ffe8-48a0-b08b-cd4de6e44425"
      },
      "outputs": [
        {
          "data": {
            "text/plain": [
              "Index(['Survived', 'Pclass', 'Sex', 'Age', 'SibSp', 'Parch', 'Fare',\n",
              "       'Embarked'],\n",
              "      dtype='object')"
            ]
          },
          "execution_count": 5,
          "metadata": {},
          "output_type": "execute_result"
        }
      ],
      "source": [
        "clean_data = data\n",
        "clean_data = clean_data.drop(columns=[\"PassengerId\", \"Name\", \"Cabin\", \"Ticket\"])\n",
        "clean_data.columns"
      ]
    },
    {
      "cell_type": "markdown",
      "id": "d3d17a74",
      "metadata": {
        "id": "d3d17a74"
      },
      "source": [
        "Ensuite, nous vérifions les données manquantes :"
      ]
    },
    {
      "cell_type": "code",
      "execution_count": null,
      "id": "f677e4d4",
      "metadata": {
        "colab": {
          "base_uri": "https://localhost:8080/"
        },
        "id": "f677e4d4",
        "outputId": "2eecb27b-374d-45a0-c5e6-10c883fe416e"
      },
      "outputs": [
        {
          "data": {
            "text/plain": [
              "Survived      0\n",
              "Pclass        0\n",
              "Sex           0\n",
              "Age         177\n",
              "SibSp         0\n",
              "Parch         0\n",
              "Fare          0\n",
              "Embarked      2\n",
              "dtype: int64"
            ]
          },
          "execution_count": 6,
          "metadata": {},
          "output_type": "execute_result"
        }
      ],
      "source": [
        "clean_data.isna().sum()"
      ]
    },
    {
      "cell_type": "markdown",
      "id": "a9d5f5ba",
      "metadata": {
        "id": "a9d5f5ba"
      },
      "source": [
        "Nous imputons les valeurs d'âge manquantes avec l'âge médian et nous imputons les ports d'embarquements manquants avec la valeur du mode :"
      ]
    },
    {
      "cell_type": "code",
      "execution_count": null,
      "id": "0d0c718c",
      "metadata": {
        "id": "0d0c718c"
      },
      "outputs": [],
      "source": [
        "clean_data[\"Age\"] = clean_data[\"Age\"].fillna(clean_data[\"Age\"].median())"
      ]
    },
    {
      "cell_type": "code",
      "execution_count": null,
      "id": "8cb4f5e7",
      "metadata": {
        "id": "8cb4f5e7"
      },
      "outputs": [],
      "source": [
        "clean_data[\"Embarked\"] = clean_data[\"Embarked\"].fillna(clean_data[\"Embarked\"].mode())"
      ]
    },
    {
      "cell_type": "code",
      "execution_count": null,
      "id": "2d041233",
      "metadata": {
        "colab": {
          "base_uri": "https://localhost:8080/"
        },
        "id": "2d041233",
        "outputId": "63bbfddc-0d00-4da6-a6ca-0d62a32a32cd"
      },
      "outputs": [
        {
          "data": {
            "text/plain": [
              "Survived    0\n",
              "Pclass      0\n",
              "Sex         0\n",
              "Age         0\n",
              "SibSp       0\n",
              "Parch       0\n",
              "Fare        0\n",
              "Embarked    2\n",
              "dtype: int64"
            ]
          },
          "execution_count": 9,
          "metadata": {},
          "output_type": "execute_result"
        }
      ],
      "source": [
        "clean_data.isna().sum()"
      ]
    },
    {
      "cell_type": "markdown",
      "id": "303c1343",
      "metadata": {
        "id": "303c1343"
      },
      "source": [
        "Nous transformons ensuite toutes nos données en format numérique, avec un one hot encoding pour les variables catégorielles telles que Sexe et Embarked, et en changeant l'objet âge en type float64. "
      ]
    },
    {
      "cell_type": "code",
      "execution_count": null,
      "id": "310388e0",
      "metadata": {
        "colab": {
          "base_uri": "https://localhost:8080/"
        },
        "id": "310388e0",
        "outputId": "f151194e-6749-4763-9683-ce20802ed960"
      },
      "outputs": [
        {
          "name": "stdout",
          "output_type": "stream",
          "text": [
            "<class 'pandas.core.frame.DataFrame'>\n",
            "RangeIndex: 891 entries, 0 to 890\n",
            "Data columns (total 8 columns):\n",
            " #   Column    Non-Null Count  Dtype  \n",
            "---  ------    --------------  -----  \n",
            " 0   Survived  891 non-null    int64  \n",
            " 1   Pclass    891 non-null    int64  \n",
            " 2   Sex       891 non-null    object \n",
            " 3   Age       891 non-null    float64\n",
            " 4   SibSp     891 non-null    int64  \n",
            " 5   Parch     891 non-null    int64  \n",
            " 6   Fare      891 non-null    float64\n",
            " 7   Embarked  889 non-null    object \n",
            "dtypes: float64(2), int64(4), object(2)\n",
            "memory usage: 55.8+ KB\n"
          ]
        }
      ],
      "source": [
        "clean_data.info()"
      ]
    },
    {
      "cell_type": "code",
      "execution_count": null,
      "id": "ab0a9f28",
      "metadata": {
        "colab": {
          "base_uri": "https://localhost:8080/",
          "height": 424
        },
        "id": "ab0a9f28",
        "outputId": "33867268-6f8a-47cf-9e03-ced180afd886"
      },
      "outputs": [
        {
          "data": {
            "text/html": [
              "\n",
              "  <div id=\"df-66c7d2b0-f0a0-49d2-937f-aba3c9599f3d\">\n",
              "    <div class=\"colab-df-container\">\n",
              "      <div>\n",
              "<style scoped>\n",
              "    .dataframe tbody tr th:only-of-type {\n",
              "        vertical-align: middle;\n",
              "    }\n",
              "\n",
              "    .dataframe tbody tr th {\n",
              "        vertical-align: top;\n",
              "    }\n",
              "\n",
              "    .dataframe thead th {\n",
              "        text-align: right;\n",
              "    }\n",
              "</style>\n",
              "<table border=\"1\" class=\"dataframe\">\n",
              "  <thead>\n",
              "    <tr style=\"text-align: right;\">\n",
              "      <th></th>\n",
              "      <th>Survived</th>\n",
              "      <th>Pclass</th>\n",
              "      <th>Age</th>\n",
              "      <th>SibSp</th>\n",
              "      <th>Parch</th>\n",
              "      <th>Fare</th>\n",
              "      <th>male</th>\n",
              "      <th>C</th>\n",
              "      <th>Q</th>\n",
              "      <th>S</th>\n",
              "    </tr>\n",
              "  </thead>\n",
              "  <tbody>\n",
              "    <tr>\n",
              "      <th>0</th>\n",
              "      <td>0</td>\n",
              "      <td>3</td>\n",
              "      <td>22.0</td>\n",
              "      <td>1</td>\n",
              "      <td>0</td>\n",
              "      <td>7.2500</td>\n",
              "      <td>1</td>\n",
              "      <td>0</td>\n",
              "      <td>0</td>\n",
              "      <td>1</td>\n",
              "    </tr>\n",
              "    <tr>\n",
              "      <th>1</th>\n",
              "      <td>1</td>\n",
              "      <td>1</td>\n",
              "      <td>38.0</td>\n",
              "      <td>1</td>\n",
              "      <td>0</td>\n",
              "      <td>71.2833</td>\n",
              "      <td>0</td>\n",
              "      <td>1</td>\n",
              "      <td>0</td>\n",
              "      <td>0</td>\n",
              "    </tr>\n",
              "    <tr>\n",
              "      <th>2</th>\n",
              "      <td>1</td>\n",
              "      <td>3</td>\n",
              "      <td>26.0</td>\n",
              "      <td>0</td>\n",
              "      <td>0</td>\n",
              "      <td>7.9250</td>\n",
              "      <td>0</td>\n",
              "      <td>0</td>\n",
              "      <td>0</td>\n",
              "      <td>1</td>\n",
              "    </tr>\n",
              "    <tr>\n",
              "      <th>3</th>\n",
              "      <td>1</td>\n",
              "      <td>1</td>\n",
              "      <td>35.0</td>\n",
              "      <td>1</td>\n",
              "      <td>0</td>\n",
              "      <td>53.1000</td>\n",
              "      <td>0</td>\n",
              "      <td>0</td>\n",
              "      <td>0</td>\n",
              "      <td>1</td>\n",
              "    </tr>\n",
              "    <tr>\n",
              "      <th>4</th>\n",
              "      <td>0</td>\n",
              "      <td>3</td>\n",
              "      <td>35.0</td>\n",
              "      <td>0</td>\n",
              "      <td>0</td>\n",
              "      <td>8.0500</td>\n",
              "      <td>1</td>\n",
              "      <td>0</td>\n",
              "      <td>0</td>\n",
              "      <td>1</td>\n",
              "    </tr>\n",
              "    <tr>\n",
              "      <th>...</th>\n",
              "      <td>...</td>\n",
              "      <td>...</td>\n",
              "      <td>...</td>\n",
              "      <td>...</td>\n",
              "      <td>...</td>\n",
              "      <td>...</td>\n",
              "      <td>...</td>\n",
              "      <td>...</td>\n",
              "      <td>...</td>\n",
              "      <td>...</td>\n",
              "    </tr>\n",
              "    <tr>\n",
              "      <th>886</th>\n",
              "      <td>0</td>\n",
              "      <td>2</td>\n",
              "      <td>27.0</td>\n",
              "      <td>0</td>\n",
              "      <td>0</td>\n",
              "      <td>13.0000</td>\n",
              "      <td>1</td>\n",
              "      <td>0</td>\n",
              "      <td>0</td>\n",
              "      <td>1</td>\n",
              "    </tr>\n",
              "    <tr>\n",
              "      <th>887</th>\n",
              "      <td>1</td>\n",
              "      <td>1</td>\n",
              "      <td>19.0</td>\n",
              "      <td>0</td>\n",
              "      <td>0</td>\n",
              "      <td>30.0000</td>\n",
              "      <td>0</td>\n",
              "      <td>0</td>\n",
              "      <td>0</td>\n",
              "      <td>1</td>\n",
              "    </tr>\n",
              "    <tr>\n",
              "      <th>888</th>\n",
              "      <td>0</td>\n",
              "      <td>3</td>\n",
              "      <td>28.0</td>\n",
              "      <td>1</td>\n",
              "      <td>2</td>\n",
              "      <td>23.4500</td>\n",
              "      <td>0</td>\n",
              "      <td>0</td>\n",
              "      <td>0</td>\n",
              "      <td>1</td>\n",
              "    </tr>\n",
              "    <tr>\n",
              "      <th>889</th>\n",
              "      <td>1</td>\n",
              "      <td>1</td>\n",
              "      <td>26.0</td>\n",
              "      <td>0</td>\n",
              "      <td>0</td>\n",
              "      <td>30.0000</td>\n",
              "      <td>1</td>\n",
              "      <td>1</td>\n",
              "      <td>0</td>\n",
              "      <td>0</td>\n",
              "    </tr>\n",
              "    <tr>\n",
              "      <th>890</th>\n",
              "      <td>0</td>\n",
              "      <td>3</td>\n",
              "      <td>32.0</td>\n",
              "      <td>0</td>\n",
              "      <td>0</td>\n",
              "      <td>7.7500</td>\n",
              "      <td>1</td>\n",
              "      <td>0</td>\n",
              "      <td>1</td>\n",
              "      <td>0</td>\n",
              "    </tr>\n",
              "  </tbody>\n",
              "</table>\n",
              "<p>891 rows × 10 columns</p>\n",
              "</div>\n",
              "      <button class=\"colab-df-convert\" onclick=\"convertToInteractive('df-66c7d2b0-f0a0-49d2-937f-aba3c9599f3d')\"\n",
              "              title=\"Convert this dataframe to an interactive table.\"\n",
              "              style=\"display:none;\">\n",
              "        \n",
              "  <svg xmlns=\"http://www.w3.org/2000/svg\" height=\"24px\"viewBox=\"0 0 24 24\"\n",
              "       width=\"24px\">\n",
              "    <path d=\"M0 0h24v24H0V0z\" fill=\"none\"/>\n",
              "    <path d=\"M18.56 5.44l.94 2.06.94-2.06 2.06-.94-2.06-.94-.94-2.06-.94 2.06-2.06.94zm-11 1L8.5 8.5l.94-2.06 2.06-.94-2.06-.94L8.5 2.5l-.94 2.06-2.06.94zm10 10l.94 2.06.94-2.06 2.06-.94-2.06-.94-.94-2.06-.94 2.06-2.06.94z\"/><path d=\"M17.41 7.96l-1.37-1.37c-.4-.4-.92-.59-1.43-.59-.52 0-1.04.2-1.43.59L10.3 9.45l-7.72 7.72c-.78.78-.78 2.05 0 2.83L4 21.41c.39.39.9.59 1.41.59.51 0 1.02-.2 1.41-.59l7.78-7.78 2.81-2.81c.8-.78.8-2.07 0-2.86zM5.41 20L4 18.59l7.72-7.72 1.47 1.35L5.41 20z\"/>\n",
              "  </svg>\n",
              "      </button>\n",
              "      \n",
              "  <style>\n",
              "    .colab-df-container {\n",
              "      display:flex;\n",
              "      flex-wrap:wrap;\n",
              "      gap: 12px;\n",
              "    }\n",
              "\n",
              "    .colab-df-convert {\n",
              "      background-color: #E8F0FE;\n",
              "      border: none;\n",
              "      border-radius: 50%;\n",
              "      cursor: pointer;\n",
              "      display: none;\n",
              "      fill: #1967D2;\n",
              "      height: 32px;\n",
              "      padding: 0 0 0 0;\n",
              "      width: 32px;\n",
              "    }\n",
              "\n",
              "    .colab-df-convert:hover {\n",
              "      background-color: #E2EBFA;\n",
              "      box-shadow: 0px 1px 2px rgba(60, 64, 67, 0.3), 0px 1px 3px 1px rgba(60, 64, 67, 0.15);\n",
              "      fill: #174EA6;\n",
              "    }\n",
              "\n",
              "    [theme=dark] .colab-df-convert {\n",
              "      background-color: #3B4455;\n",
              "      fill: #D2E3FC;\n",
              "    }\n",
              "\n",
              "    [theme=dark] .colab-df-convert:hover {\n",
              "      background-color: #434B5C;\n",
              "      box-shadow: 0px 1px 3px 1px rgba(0, 0, 0, 0.15);\n",
              "      filter: drop-shadow(0px 1px 2px rgba(0, 0, 0, 0.3));\n",
              "      fill: #FFFFFF;\n",
              "    }\n",
              "  </style>\n",
              "\n",
              "      <script>\n",
              "        const buttonEl =\n",
              "          document.querySelector('#df-66c7d2b0-f0a0-49d2-937f-aba3c9599f3d button.colab-df-convert');\n",
              "        buttonEl.style.display =\n",
              "          google.colab.kernel.accessAllowed ? 'block' : 'none';\n",
              "\n",
              "        async function convertToInteractive(key) {\n",
              "          const element = document.querySelector('#df-66c7d2b0-f0a0-49d2-937f-aba3c9599f3d');\n",
              "          const dataTable =\n",
              "            await google.colab.kernel.invokeFunction('convertToInteractive',\n",
              "                                                     [key], {});\n",
              "          if (!dataTable) return;\n",
              "\n",
              "          const docLinkHtml = 'Like what you see? Visit the ' +\n",
              "            '<a target=\"_blank\" href=https://colab.research.google.com/notebooks/data_table.ipynb>data table notebook</a>'\n",
              "            + ' to learn more about interactive tables.';\n",
              "          element.innerHTML = '';\n",
              "          dataTable['output_type'] = 'display_data';\n",
              "          await google.colab.output.renderOutput(dataTable, element);\n",
              "          const docLink = document.createElement('div');\n",
              "          docLink.innerHTML = docLinkHtml;\n",
              "          element.appendChild(docLink);\n",
              "        }\n",
              "      </script>\n",
              "    </div>\n",
              "  </div>\n",
              "  "
            ],
            "text/plain": [
              "     Survived  Pclass   Age  SibSp  Parch     Fare  male  C  Q  S\n",
              "0           0       3  22.0      1      0   7.2500     1  0  0  1\n",
              "1           1       1  38.0      1      0  71.2833     0  1  0  0\n",
              "2           1       3  26.0      0      0   7.9250     0  0  0  1\n",
              "3           1       1  35.0      1      0  53.1000     0  0  0  1\n",
              "4           0       3  35.0      0      0   8.0500     1  0  0  1\n",
              "..        ...     ...   ...    ...    ...      ...   ... .. .. ..\n",
              "886         0       2  27.0      0      0  13.0000     1  0  0  1\n",
              "887         1       1  19.0      0      0  30.0000     0  0  0  1\n",
              "888         0       3  28.0      1      2  23.4500     0  0  0  1\n",
              "889         1       1  26.0      0      0  30.0000     1  1  0  0\n",
              "890         0       3  32.0      0      0   7.7500     1  0  1  0\n",
              "\n",
              "[891 rows x 10 columns]"
            ]
          },
          "execution_count": 11,
          "metadata": {},
          "output_type": "execute_result"
        }
      ],
      "source": [
        "embark = pd.get_dummies(clean_data['Embarked']) #One hot encoding embarked\n",
        "sex = pd.get_dummies(clean_data['Sex'], drop_first=True) #One hot encoding sex\n",
        "clean_data = pd.concat([clean_data, sex, embark], axis=1) # Adding the new one hot encoded columns to our dataset\n",
        "clean_data.drop(columns= [\"Sex\", \"Embarked\"], axis=1,inplace=True) #removing columns sex and embarked\n",
        "clean_data['Age'] = clean_data[\"Age\"].astype('float64') #Chaging the type of Age column\n",
        "clean_data"
      ]
    },
    {
      "cell_type": "code",
      "execution_count": null,
      "id": "bf2e3a62",
      "metadata": {
        "colab": {
          "base_uri": "https://localhost:8080/"
        },
        "id": "bf2e3a62",
        "outputId": "eb20b224-6185-42cc-a9f7-874bcb211c03"
      },
      "outputs": [
        {
          "name": "stdout",
          "output_type": "stream",
          "text": [
            "<class 'pandas.core.frame.DataFrame'>\n",
            "RangeIndex: 891 entries, 0 to 890\n",
            "Data columns (total 10 columns):\n",
            " #   Column    Non-Null Count  Dtype  \n",
            "---  ------    --------------  -----  \n",
            " 0   Survived  891 non-null    int64  \n",
            " 1   Pclass    891 non-null    int64  \n",
            " 2   Age       891 non-null    float64\n",
            " 3   SibSp     891 non-null    int64  \n",
            " 4   Parch     891 non-null    int64  \n",
            " 5   Fare      891 non-null    float64\n",
            " 6   male      891 non-null    uint8  \n",
            " 7   C         891 non-null    uint8  \n",
            " 8   Q         891 non-null    uint8  \n",
            " 9   S         891 non-null    uint8  \n",
            "dtypes: float64(2), int64(4), uint8(4)\n",
            "memory usage: 45.4 KB\n"
          ]
        }
      ],
      "source": [
        "clean_data.info()"
      ]
    },
    {
      "cell_type": "markdown",
      "id": "6f0596ab",
      "metadata": {
        "id": "6f0596ab"
      },
      "source": [
        "Enfin, nous voulons calculer la corrélation entre toutes nos variables pour voir si toutes les caractéristiques sont pertinentes et doivent être conservées."
      ]
    },
    {
      "cell_type": "code",
      "execution_count": null,
      "id": "83533d84",
      "metadata": {
        "colab": {
          "base_uri": "https://localhost:8080/",
          "height": 320
        },
        "id": "83533d84",
        "outputId": "c0bfbd3d-1258-456a-8431-306023c73fb3"
      },
      "outputs": [
        {
          "data": {
            "text/plain": [
              "<matplotlib.axes._subplots.AxesSubplot at 0x7f657dca2350>"
            ]
          },
          "execution_count": 13,
          "metadata": {},
          "output_type": "execute_result"
        },
        {
          "data": {
            "image/png": "[encoded data removed]",
            "text/plain": [
              "<Figure size 432x288 with 2 Axes>"
            ]
          },
          "metadata": {
            "needs_background": "light"
          },
          "output_type": "display_data"
        }
      ],
      "source": [
        "sns.heatmap(clean_data.corr(), vmin=-1, vmax=1, center=0, annot=True, fmt=\".2f\")"
      ]
    },
    {
      "cell_type": "markdown",
      "id": "a01d939b",
      "metadata": {
        "id": "a01d939b"
      },
      "source": [
        "Pour tirer des enseignements de la corrélation entre les caractéristiques...\n",
        "* Tarif et Pclass sont négativement corrélés (avec un coefficient de corrélation de Pearson de -0.55) ; De toute évidence, des tarifs plus élevés impliquent de meilleures classes de billets (plus le numéro de classe est bas) et vice versa.\n",
        "* Pclass et survived sont modérément corrélés négativement (-0.34), ce qui implique que plus la classe de billets est bonne, plus les chances de survie sont élevées.\n",
        "* Les caractéristiques SibSp et Parch sont positivement corrélées ensemble, ce qui indique le nombre de membres de la famille accompagnant le passager.\n",
        "* PClass et l'âge sont négativement corrélés (-0.34), ce qui implique que plus l'âge est élevé, meilleure est la classe du billet.\n",
        "* Les ports d'embarquement ont également une légère corrélation avec la survie, en particulier pour le port S (-0,16) et le port C (0,17), le port dans lequel le navire a été embarqué par les passagers a déterminé leurs chances de survie.\n",
        "* Le sexe est également fortement corrélé avec la survie (-0.54), ce qui indique que le sexe du passager a un effet important sur ses chances de survie.\n",
        "* Les ports d'embarquement et le tarif des passagers ont de très légères corrélations négatives, indiquant que le tarif dépend du port d'embarquement du passager.\n",
        "* Embarqué et Pclass sont également légèrement corrélés, indiquant qu'un passager de 1ère classe a probablement embarqué dans un port différent de celui d'un passager de 3ème classe."
      ]
    },
    {
      "cell_type": "markdown",
      "id": "7ce5aa20",
      "metadata": {
        "id": "7ce5aa20"
      },
      "source": [
        "Nous décidons de conserver toutes les fonctionnalités que nous avons actuellement et nous décidons de combiner les colonnes SibSp et Parch en une seule colonne Famille."
      ]
    },
    {
      "cell_type": "code",
      "execution_count": null,
      "id": "9fa88754",
      "metadata": {
        "id": "9fa88754"
      },
      "outputs": [],
      "source": [
        "clean_data[\"Family\"] = clean_data['SibSp'] + clean_data['Parch']\n",
        "clean_data = clean_data.drop(columns=[\"SibSp\", \"Parch\"])"
      ]
    },
    {
      "cell_type": "markdown",
      "id": "fb2d0d9d",
      "metadata": {
        "id": "fb2d0d9d"
      },
      "source": [
        "En théorie, nous pourrions également créer de nouvelles caractéristiques en combinant l'âge, PClass et la famille, par exemple."
      ]
    },
    {
      "cell_type": "markdown",
      "id": "91d36647",
      "metadata": {
        "id": "91d36647"
      },
      "source": [
        "Maintenant que nous avons nettoyé nos données, nous pouvons procéder aux étapes suivantes dans notre pipeline ML."
      ]
    },
    {
      "cell_type": "markdown",
      "id": "fe5f3216",
      "metadata": {
        "id": "fe5f3216"
      },
      "source": [
        "### 1.2 Splitting"
      ]
    },
    {
      "cell_type": "code",
      "execution_count": null,
      "id": "3c626974",
      "metadata": {
        "colab": {
          "base_uri": "https://localhost:8080/",
          "height": 424
        },
        "id": "3c626974",
        "outputId": "755c0414-35b8-466a-b8ce-7bc24061baa7"
      },
      "outputs": [
        {
          "data": {
            "text/html": [
              "\n",
              "  <div id=\"df-00ca27a3-ced3-4cec-8b97-cd596eacfc86\">\n",
              "    <div class=\"colab-df-container\">\n",
              "      <div>\n",
              "<style scoped>\n",
              "    .dataframe tbody tr th:only-of-type {\n",
              "        vertical-align: middle;\n",
              "    }\n",
              "\n",
              "    .dataframe tbody tr th {\n",
              "        vertical-align: top;\n",
              "    }\n",
              "\n",
              "    .dataframe thead th {\n",
              "        text-align: right;\n",
              "    }\n",
              "</style>\n",
              "<table border=\"1\" class=\"dataframe\">\n",
              "  <thead>\n",
              "    <tr style=\"text-align: right;\">\n",
              "      <th></th>\n",
              "      <th>Survived</th>\n",
              "      <th>Pclass</th>\n",
              "      <th>Age</th>\n",
              "      <th>Fare</th>\n",
              "      <th>male</th>\n",
              "      <th>C</th>\n",
              "      <th>Q</th>\n",
              "      <th>S</th>\n",
              "      <th>Family</th>\n",
              "    </tr>\n",
              "  </thead>\n",
              "  <tbody>\n",
              "    <tr>\n",
              "      <th>0</th>\n",
              "      <td>0</td>\n",
              "      <td>3</td>\n",
              "      <td>22.0</td>\n",
              "      <td>7.2500</td>\n",
              "      <td>1</td>\n",
              "      <td>0</td>\n",
              "      <td>0</td>\n",
              "      <td>1</td>\n",
              "      <td>1</td>\n",
              "    </tr>\n",
              "    <tr>\n",
              "      <th>1</th>\n",
              "      <td>1</td>\n",
              "      <td>1</td>\n",
              "      <td>38.0</td>\n",
              "      <td>71.2833</td>\n",
              "      <td>0</td>\n",
              "      <td>1</td>\n",
              "      <td>0</td>\n",
              "      <td>0</td>\n",
              "      <td>1</td>\n",
              "    </tr>\n",
              "    <tr>\n",
              "      <th>2</th>\n",
              "      <td>1</td>\n",
              "      <td>3</td>\n",
              "      <td>26.0</td>\n",
              "      <td>7.9250</td>\n",
              "      <td>0</td>\n",
              "      <td>0</td>\n",
              "      <td>0</td>\n",
              "      <td>1</td>\n",
              "      <td>0</td>\n",
              "    </tr>\n",
              "    <tr>\n",
              "      <th>3</th>\n",
              "      <td>1</td>\n",
              "      <td>1</td>\n",
              "      <td>35.0</td>\n",
              "      <td>53.1000</td>\n",
              "      <td>0</td>\n",
              "      <td>0</td>\n",
              "      <td>0</td>\n",
              "      <td>1</td>\n",
              "      <td>1</td>\n",
              "    </tr>\n",
              "    <tr>\n",
              "      <th>4</th>\n",
              "      <td>0</td>\n",
              "      <td>3</td>\n",
              "      <td>35.0</td>\n",
              "      <td>8.0500</td>\n",
              "      <td>1</td>\n",
              "      <td>0</td>\n",
              "      <td>0</td>\n",
              "      <td>1</td>\n",
              "      <td>0</td>\n",
              "    </tr>\n",
              "    <tr>\n",
              "      <th>...</th>\n",
              "      <td>...</td>\n",
              "      <td>...</td>\n",
              "      <td>...</td>\n",
              "      <td>...</td>\n",
              "      <td>...</td>\n",
              "      <td>...</td>\n",
              "      <td>...</td>\n",
              "      <td>...</td>\n",
              "      <td>...</td>\n",
              "    </tr>\n",
              "    <tr>\n",
              "      <th>886</th>\n",
              "      <td>0</td>\n",
              "      <td>2</td>\n",
              "      <td>27.0</td>\n",
              "      <td>13.0000</td>\n",
              "      <td>1</td>\n",
              "      <td>0</td>\n",
              "      <td>0</td>\n",
              "      <td>1</td>\n",
              "      <td>0</td>\n",
              "    </tr>\n",
              "    <tr>\n",
              "      <th>887</th>\n",
              "      <td>1</td>\n",
              "      <td>1</td>\n",
              "      <td>19.0</td>\n",
              "      <td>30.0000</td>\n",
              "      <td>0</td>\n",
              "      <td>0</td>\n",
              "      <td>0</td>\n",
              "      <td>1</td>\n",
              "      <td>0</td>\n",
              "    </tr>\n",
              "    <tr>\n",
              "      <th>888</th>\n",
              "      <td>0</td>\n",
              "      <td>3</td>\n",
              "      <td>28.0</td>\n",
              "      <td>23.4500</td>\n",
              "      <td>0</td>\n",
              "      <td>0</td>\n",
              "      <td>0</td>\n",
              "      <td>1</td>\n",
              "      <td>3</td>\n",
              "    </tr>\n",
              "    <tr>\n",
              "      <th>889</th>\n",
              "      <td>1</td>\n",
              "      <td>1</td>\n",
              "      <td>26.0</td>\n",
              "      <td>30.0000</td>\n",
              "      <td>1</td>\n",
              "      <td>1</td>\n",
              "      <td>0</td>\n",
              "      <td>0</td>\n",
              "      <td>0</td>\n",
              "    </tr>\n",
              "    <tr>\n",
              "      <th>890</th>\n",
              "      <td>0</td>\n",
              "      <td>3</td>\n",
              "      <td>32.0</td>\n",
              "      <td>7.7500</td>\n",
              "      <td>1</td>\n",
              "      <td>0</td>\n",
              "      <td>1</td>\n",
              "      <td>0</td>\n",
              "      <td>0</td>\n",
              "    </tr>\n",
              "  </tbody>\n",
              "</table>\n",
              "<p>891 rows × 9 columns</p>\n",
              "</div>\n",
              "      <button class=\"colab-df-convert\" onclick=\"convertToInteractive('df-00ca27a3-ced3-4cec-8b97-cd596eacfc86')\"\n",
              "              title=\"Convert this dataframe to an interactive table.\"\n",
              "              style=\"display:none;\">\n",
              "        \n",
              "  <svg xmlns=\"http://www.w3.org/2000/svg\" height=\"24px\"viewBox=\"0 0 24 24\"\n",
              "       width=\"24px\">\n",
              "    <path d=\"M0 0h24v24H0V0z\" fill=\"none\"/>\n",
              "    <path d=\"M18.56 5.44l.94 2.06.94-2.06 2.06-.94-2.06-.94-.94-2.06-.94 2.06-2.06.94zm-11 1L8.5 8.5l.94-2.06 2.06-.94-2.06-.94L8.5 2.5l-.94 2.06-2.06.94zm10 10l.94 2.06.94-2.06 2.06-.94-2.06-.94-.94-2.06-.94 2.06-2.06.94z\"/><path d=\"M17.41 7.96l-1.37-1.37c-.4-.4-.92-.59-1.43-.59-.52 0-1.04.2-1.43.59L10.3 9.45l-7.72 7.72c-.78.78-.78 2.05 0 2.83L4 21.41c.39.39.9.59 1.41.59.51 0 1.02-.2 1.41-.59l7.78-7.78 2.81-2.81c.8-.78.8-2.07 0-2.86zM5.41 20L4 18.59l7.72-7.72 1.47 1.35L5.41 20z\"/>\n",
              "  </svg>\n",
              "      </button>\n",
              "      \n",
              "  <style>\n",
              "    .colab-df-container {\n",
              "      display:flex;\n",
              "      flex-wrap:wrap;\n",
              "      gap: 12px;\n",
              "    }\n",
              "\n",
              "    .colab-df-convert {\n",
              "      background-color: #E8F0FE;\n",
              "      border: none;\n",
              "      border-radius: 50%;\n",
              "      cursor: pointer;\n",
              "      display: none;\n",
              "      fill: #1967D2;\n",
              "      height: 32px;\n",
              "      padding: 0 0 0 0;\n",
              "      width: 32px;\n",
              "    }\n",
              "\n",
              "    .colab-df-convert:hover {\n",
              "      background-color: #E2EBFA;\n",
              "      box-shadow: 0px 1px 2px rgba(60, 64, 67, 0.3), 0px 1px 3px 1px rgba(60, 64, 67, 0.15);\n",
              "      fill: #174EA6;\n",
              "    }\n",
              "\n",
              "    [theme=dark] .colab-df-convert {\n",
              "      background-color: #3B4455;\n",
              "      fill: #D2E3FC;\n",
              "    }\n",
              "\n",
              "    [theme=dark] .colab-df-convert:hover {\n",
              "      background-color: #434B5C;\n",
              "      box-shadow: 0px 1px 3px 1px rgba(0, 0, 0, 0.15);\n",
              "      filter: drop-shadow(0px 1px 2px rgba(0, 0, 0, 0.3));\n",
              "      fill: #FFFFFF;\n",
              "    }\n",
              "  </style>\n",
              "\n",
              "      <script>\n",
              "        const buttonEl =\n",
              "          document.querySelector('#df-00ca27a3-ced3-4cec-8b97-cd596eacfc86 button.colab-df-convert');\n",
              "        buttonEl.style.display =\n",
              "          google.colab.kernel.accessAllowed ? 'block' : 'none';\n",
              "\n",
              "        async function convertToInteractive(key) {\n",
              "          const element = document.querySelector('#df-00ca27a3-ced3-4cec-8b97-cd596eacfc86');\n",
              "          const dataTable =\n",
              "            await google.colab.kernel.invokeFunction('convertToInteractive',\n",
              "                                                     [key], {});\n",
              "          if (!dataTable) return;\n",
              "\n",
              "          const docLinkHtml = 'Like what you see? Visit the ' +\n",
              "            '<a target=\"_blank\" href=https://colab.research.google.com/notebooks/data_table.ipynb>data table notebook</a>'\n",
              "            + ' to learn more about interactive tables.';\n",
              "          element.innerHTML = '';\n",
              "          dataTable['output_type'] = 'display_data';\n",
              "          await google.colab.output.renderOutput(dataTable, element);\n",
              "          const docLink = document.createElement('div');\n",
              "          docLink.innerHTML = docLinkHtml;\n",
              "          element.appendChild(docLink);\n",
              "        }\n",
              "      </script>\n",
              "    </div>\n",
              "  </div>\n",
              "  "
            ],
            "text/plain": [
              "     Survived  Pclass   Age     Fare  male  C  Q  S  Family\n",
              "0           0       3  22.0   7.2500     1  0  0  1       1\n",
              "1           1       1  38.0  71.2833     0  1  0  0       1\n",
              "2           1       3  26.0   7.9250     0  0  0  1       0\n",
              "3           1       1  35.0  53.1000     0  0  0  1       1\n",
              "4           0       3  35.0   8.0500     1  0  0  1       0\n",
              "..        ...     ...   ...      ...   ... .. .. ..     ...\n",
              "886         0       2  27.0  13.0000     1  0  0  1       0\n",
              "887         1       1  19.0  30.0000     0  0  0  1       0\n",
              "888         0       3  28.0  23.4500     0  0  0  1       3\n",
              "889         1       1  26.0  30.0000     1  1  0  0       0\n",
              "890         0       3  32.0   7.7500     1  0  1  0       0\n",
              "\n",
              "[891 rows x 9 columns]"
            ]
          },
          "execution_count": 15,
          "metadata": {},
          "output_type": "execute_result"
        }
      ],
      "source": [
        "clean_data"
      ]
    },
    {
      "cell_type": "code",
      "execution_count": null,
      "id": "3ff6ffd3",
      "metadata": {
        "id": "3ff6ffd3"
      },
      "outputs": [],
      "source": [
        "y = clean_data[\"Survived\"]\n",
        "X = clean_data.drop(columns=[\"Survived\"])"
      ]
    },
    {
      "cell_type": "code",
      "execution_count": null,
      "id": "8e28db21",
      "metadata": {
        "id": "8e28db21"
      },
      "outputs": [],
      "source": [
        "X_train, X_test, y_train, y_test = train_test_split(X, y, test_size=0.3)"
      ]
    },
    {
      "cell_type": "markdown",
      "id": "63845c91",
      "metadata": {
        "id": "63845c91"
      },
      "source": [
        "### 1.3 Entrainement du modèle"
      ]
    },
    {
      "cell_type": "code",
      "execution_count": null,
      "id": "cfbc4082",
      "metadata": {
        "id": "cfbc4082"
      },
      "outputs": [],
      "source": [
        "from sklearn.neighbors import KNeighborsClassifier\n",
        "\n",
        "model = KNeighborsClassifier(n_neighbors=3)\n",
        "model.fit(X_train, y_train)\n",
        "y_pred = model.predict(X_test)"
      ]
    },
    {
      "cell_type": "code",
      "execution_count": null,
      "id": "UoJQVxk92_vu",
      "metadata": {
        "id": "UoJQVxk92_vu"
      },
      "outputs": [],
      "source": [
        "from sklearn.svm import SVC\n",
        "\n",
        "model = SVC()\n",
        "model.fit(X_train, y_train)\n",
        "y_pred = model.predict(X_test)"
      ]
    },
    {
      "cell_type": "code",
      "execution_count": null,
      "id": "7Chyn57Y3-0Z",
      "metadata": {
        "id": "7Chyn57Y3-0Z"
      },
      "outputs": [],
      "source": [
        "from sklearn import tree\n",
        "\n",
        "model = tree.DecisionTreeClassifier()\n",
        "model.fit(X_train, y_train)\n",
        "y_pred = model.predict(X_test)"
      ]
    },
    {
      "cell_type": "markdown",
      "id": "3f63b617",
      "metadata": {
        "id": "3f63b617"
      },
      "source": [
        "### 1.4 Evaluation du modèle"
      ]
    },
    {
      "cell_type": "markdown",
      "id": "aa208d5b",
      "metadata": {
        "id": "aa208d5b"
      },
      "source": [
        "Afin d'évaluer un classificateur ML binaire, quelques mesures sont à notre disposition :\n",
        "* la précision\n",
        "* la matrice de confusion\n",
        "* Sensibilité et Spécificité\n",
        "* le score F1\n",
        "* la courbe ROC et l'AUC"
      ]
    },
    {
      "cell_type": "markdown",
      "id": "20782660",
      "metadata": {
        "id": "20782660"
      },
      "source": [
        "#### 1.4.1 The Accuracy/précision"
      ]
    },
    {
      "cell_type": "markdown",
      "id": "917d644c",
      "metadata": {
        "id": "917d644c"
      },
      "source": [
        "Nous allons d'abord essayer d'utiliser l'accuracy pour l'évaluation.    \n",
        "Afin d'obtenir l'accuracy, nous divisons le nombre de prédictions correctes par le nombre total de prédictions et obtenons ainsi le pourcentage d'échantillons qui ont été prédits correctement :"
      ]
    },
    {
      "cell_type": "markdown",
      "id": "6d7f467e",
      "metadata": {
        "id": "6d7f467e"
      },
      "source": [
        "$accuracy = \\frac{CorrectPredictions}{AllPredictions}$"
      ]
    },
    {
      "cell_type": "code",
      "execution_count": null,
      "id": "8a08befa",
      "metadata": {
        "colab": {
          "base_uri": "https://localhost:8080/"
        },
        "id": "8a08befa",
        "outputId": "2fa1fb90-47ab-4178-8211-ba402f7d777d"
      },
      "outputs": [
        {
          "data": {
            "text/plain": [
              "0.7723880597014925"
            ]
          },
          "execution_count": 37,
          "metadata": {},
          "output_type": "execute_result"
        }
      ],
      "source": [
        "from sklearn.metrics import accuracy_score\n",
        "accuracy_score(y_test, y_pred)"
      ]
    },
    {
      "cell_type": "markdown",
      "id": "8992ccd4",
      "metadata": {
        "id": "8992ccd4"
      },
      "source": [
        "Cette métrique nous donne une idée très générale de l'efficacité de notre modèle. \n",
        "\n",
        "Mais lorsque les données sont déséquilibrées, l'accuracy n'est pas la meilleure mesure à utiliser. En effet, imaginez que un jeu de données, 95% des personnes ont survécu. Si mon modèle suppose systématiquement que les personnes ont survécu, dans le pire des cas, j'aurais donc une précision de 95 %. Ce qui semble être un excellent résultat, mais mon modèle ne ferait en fait absolument rien.\n",
        "\n",
        "Dans les cas déséquilibrés, une \"balanced accuracy\" peut être calculée."
      ]
    },
    {
      "cell_type": "markdown",
      "id": "a0eb2f96",
      "metadata": {
        "id": "a0eb2f96"
      },
      "source": [
        "#### 1.4.2 The confusion matrix"
      ]
    },
    {
      "cell_type": "markdown",
      "id": "335e8aa6",
      "metadata": {
        "id": "335e8aa6"
      },
      "source": [
        "Afin d'avoir une vision plus précise de la qualité de prédiction de notre modèle, nous pouvons utiliser la matrice de confusion.\n",
        "\n",
        "La matrice de confusion représente donc le décompte de toutes les instances TP, TN, FP, et FN :\n",
        "\n",
        "* Vrai Négatif (True Negative) : Chaque fois que nous disons Vrai, cela signifie que nos prédictions correspondent aux réalités. True Negative signifie que les prédictions et les réalisations sont toutes deux de classe négative.\n",
        "\n",
        "* Vrai positif (True Positive): De même, lorsque les prédictions et les réalisations sont de classe positive, on parle de Vrai Positif.\n",
        "\n",
        "* Faux positif (False Positive): Lorsqu'une prédiction est positive et que le réel est négatif, on parle de faux positif.\n",
        "\n",
        "* Faux négatif (False nagative): Comme pour les faux positifs, on parle de faux négatif lorsque la prédiction est négative mais que le réel est positif. \n",
        "\n",
        "*Source: https://www.kdnuggets.com/2022/09/visualizing-confusion-matrix-scikitlearn.html*\n"
      ]
    },
    {
      "cell_type": "markdown",
      "id": "ba9c9f18",
      "metadata": {
        "id": "ba9c9f18"
      },
      "source": [
        "<img src=\"ConfusionMatrix.png\" alt=\"confusionmatrix\" style=\"width: 600px;\"/>"
      ]
    },
    {
      "cell_type": "code",
      "execution_count": null,
      "id": "3f3c1ebb",
      "metadata": {
        "colab": {
          "base_uri": "https://localhost:8080/",
          "height": 296
        },
        "id": "3f3c1ebb",
        "outputId": "222e7c06-bf1a-4080-8771-cd1ccc401ee2"
      },
      "outputs": [
        {
          "data": {
            "text/plain": [
              "<sklearn.metrics._plot.confusion_matrix.ConfusionMatrixDisplay at 0x7f6568961390>"
            ]
          },
          "execution_count": 38,
          "metadata": {},
          "output_type": "execute_result"
        },
        {
          "data": {
            "image/png": "[encoded data removed]",
            "text/plain": [
              "<Figure size 432x288 with 2 Axes>"
            ]
          },
          "metadata": {
            "needs_background": "light"
          },
          "output_type": "display_data"
        }
      ],
      "source": [
        "from sklearn.metrics import confusion_matrix, ConfusionMatrixDisplay\n",
        "cm = confusion_matrix(y_test, y_pred)\n",
        "ConfusionMatrixDisplay(confusion_matrix = cm, display_labels = model.classes_).plot()"
      ]
    },
    {
      "cell_type": "markdown",
      "id": "0c7169bd",
      "metadata": {
        "id": "0c7169bd"
      },
      "source": [
        "#### 1.4.3 Sensitivity and Spécificity/ Sensibilité et Spécificité"
      ]
    },
    {
      "cell_type": "markdown",
      "id": "3bdb975b",
      "metadata": {
        "id": "3bdb975b"
      },
      "source": [
        "À l'aide de la matrice de confusion, nous pouvons calculer des mesures plus précises pour évaluer l'efficacité de notre modèle. La précision et le rappel sont quelques-unes de ces mesures.\n",
        "\n",
        "La sensibilité (également appelée taux de vrais positifs, TPR) est définie comme le pourcentage d'exemples pertinents (vrais positifs) parmi tous les exemples de cette classe. Vous pouvez considérer qu'il s'agit de la manière dont votre modèle étiquette précisément la classe que vous souhaitez détecter. \n",
        "\n",
        "La spécificité (également appelée taux de vrais négatifs, TNR), quant à elle, est définie comme le pourcentage d'exemples qui sont prédits faux parmi tous les exemples qui sont réellement faux. Vous pouvez considérer qu'il s'agit de la précision avec laquelle votre modèle identifie les classes erronées. "
      ]
    },
    {
      "cell_type": "markdown",
      "id": "08d57056",
      "metadata": {
        "id": "08d57056"
      },
      "source": [
        "La sensibilité et la spécificité sont très utiles dans les cas où les classes ne sont pas distribuées uniformément. Elles sont également très utiles si vous voulez mesurer sur quelle classe si votre modèle est très précis."
      ]
    },
    {
      "cell_type": "markdown",
      "id": "47d4ad8c",
      "metadata": {
        "id": "47d4ad8c"
      },
      "source": [
        "$ TPR = \\frac{TP}{TP + FN}$"
      ]
    },
    {
      "cell_type": "markdown",
      "id": "32546971",
      "metadata": {
        "id": "32546971"
      },
      "source": [
        "$ TNR = \\frac{TN}{TN + FP}$"
      ]
    },
    {
      "cell_type": "code",
      "execution_count": null,
      "id": "ce5e35c1",
      "metadata": {
        "colab": {
          "base_uri": "https://localhost:8080/"
        },
        "id": "ce5e35c1",
        "outputId": "765ec277-2f89-4d1f-e585-d0218d3e342f"
      },
      "outputs": [
        {
          "name": "stdout",
          "output_type": "stream",
          "text": [
            "0.69\n"
          ]
        }
      ],
      "source": [
        "tn, fp, fn, tp = confusion_matrix(y_test, y_pred).ravel()\n",
        "true_positive_rate = tp / (tp + fn)\n",
        "print(true_positive_rate)"
      ]
    },
    {
      "cell_type": "code",
      "execution_count": null,
      "id": "3841bd27",
      "metadata": {
        "colab": {
          "base_uri": "https://localhost:8080/"
        },
        "id": "3841bd27",
        "outputId": "da9238a6-720b-4346-af3a-6a623f37900e"
      },
      "outputs": [
        {
          "name": "stdout",
          "output_type": "stream",
          "text": [
            "0.8214285714285714\n"
          ]
        }
      ],
      "source": [
        "tn, fp, fn, tp = confusion_matrix(y_test, y_pred).ravel()\n",
        "true_negative_rate = tn / (tn + fp)\n",
        "print(true_negative_rate)"
      ]
    },
    {
      "cell_type": "markdown",
      "id": "d5c40c08",
      "metadata": {
        "id": "d5c40c08"
      },
      "source": [
        "#### 1.4.4 F1 score"
      ]
    },
    {
      "cell_type": "markdown",
      "id": "dbff7c89",
      "metadata": {
        "id": "dbff7c89"
      },
      "source": [
        "Le F1 est la moyenne harmonique de Precision et Recall. Cette métrique d'évaluation est une mesure de l'exactitude globale que notre modèle a atteint dans un environnement de prédiction positive-\n",
        "c'est-à-dire, parmi toutes les observations que notre modèle a étiquetées comme positives, combien de ces observations sont réellement positives. Vous utilisez cette métrique lorsque la spécificité et la sensibilité ont la même importance dans vos prédictions."
      ]
    },
    {
      "cell_type": "markdown",
      "id": "6b3e0f95",
      "metadata": {
        "id": "6b3e0f95"
      },
      "source": [
        "$ F1 = 2 \\times \\frac{TPR \\times TNR}{TPR + TNR}$"
      ]
    },
    {
      "cell_type": "code",
      "execution_count": null,
      "id": "0219614c",
      "metadata": {
        "colab": {
          "base_uri": "https://localhost:8080/"
        },
        "id": "0219614c",
        "outputId": "856bc474-b139-4224-a97e-2b21c224f723"
      },
      "outputs": [
        {
          "name": "stdout",
          "output_type": "stream",
          "text": [
            "0.6934673366834171\n"
          ]
        }
      ],
      "source": [
        "from sklearn.metrics import f1_score\n",
        "f1 = f1_score(y_test, y_pred)\n",
        "print(f1)"
      ]
    },
    {
      "cell_type": "markdown",
      "id": "52942e14",
      "metadata": {
        "id": "52942e14"
      },
      "source": [
        "#### 1.4.5 The ROC curve"
      ]
    },
    {
      "cell_type": "markdown",
      "id": "5349770c",
      "metadata": {
        "id": "5349770c"
      },
      "source": [
        "Il s'agit d'un graphique qui permet de visualiser le compromis entre le taux de vrais positifs (TPR) et le taux de faux positifs (FPR). En fait, pour chaque seuil de décision, nous calculons le TPR et le FPR et les reportons sur un graphique.\n",
        "Les courbes se situant plus en haut à gauche sont meilleurs."
      ]
    },
    {
      "cell_type": "code",
      "execution_count": null,
      "id": "df959f67",
      "metadata": {
        "colab": {
          "base_uri": "https://localhost:8080/",
          "height": 351
        },
        "id": "df959f67",
        "outputId": "b722b216-c0f8-4c81-d398-460b6a315d50"
      },
      "outputs": [
        {
          "name": "stderr",
          "output_type": "stream",
          "text": [
            "/usr/local/lib/python3.7/dist-packages/sklearn/utils/deprecation.py:87: FutureWarning: Function plot_roc_curve is deprecated; Function :func:`plot_roc_curve` is deprecated in 1.0 and will be removed in 1.2. Use one of the class methods: :meth:`sklearn.metric.RocCurveDisplay.from_predictions` or :meth:`sklearn.metric.RocCurveDisplay.from_estimator`.\n",
            "  warnings.warn(msg, category=FutureWarning)\n"
          ]
        },
        {
          "data": {
            "text/plain": [
              "<sklearn.metrics._plot.roc_curve.RocCurveDisplay at 0x7f6568720bd0>"
            ]
          },
          "execution_count": 42,
          "metadata": {},
          "output_type": "execute_result"
        },
        {
          "data": {
            "image/png": "[encoded data removed]",
            "text/plain": [
              "<Figure size 432x288 with 1 Axes>"
            ]
          },
          "metadata": {
            "needs_background": "light"
          },
          "output_type": "display_data"
        }
      ],
      "source": [
        "import matplotlib.pyplot as plt\n",
        "from sklearn.metrics import plot_roc_curve\n",
        "\n",
        "plot_roc_curve(model, X_test, y_test)"
      ]
    },
    {
      "cell_type": "markdown",
      "id": "485b22ec",
      "metadata": {
        "id": "485b22ec"
      },
      "source": [
        "L'objectif du tracé des courbes ROC est de pouvoir comparer la performance des modèles entre eux. Mais comparer les courbes ROC à la main peut être un peu difficile, c'est pourquoi nous utilisons une métrique appelée AUC (pour Area Under the Curve) qui calcule directement toute l'aire sous la courbe ROC. Grâce à la métrique AUC, nous pouvons comparer les modèles plus facilement. Une AUC proche de 1 est meilleure."
      ]
    },
    {
      "cell_type": "code",
      "execution_count": null,
      "id": "6a7126d0",
      "metadata": {
        "colab": {
          "base_uri": "https://localhost:8080/"
        },
        "id": "6a7126d0",
        "outputId": "a0e6c5e0-40f2-4b9e-e283-5c1a774c98b9"
      },
      "outputs": [
        {
          "name": "stdout",
          "output_type": "stream",
          "text": [
            "0.7557142857142857\n"
          ]
        }
      ],
      "source": [
        "from sklearn.metrics import roc_auc_score\n",
        "\n",
        "roc_auc = roc_auc_score(y_test, y_pred)\n",
        "print(roc_auc)"
      ]
    },
    {
      "cell_type": "markdown",
      "id": "23895072",
      "metadata": {
        "id": "23895072"
      },
      "source": [
        "* Vous ne devriez pas l'utiliser lorsque vos données sont fortement déséquilibrées. L'intuition est la suivante : le taux de faux positifs pour les ensembles de données fortement déséquilibrés est réduit en raison d'un grand nombre de vrais négatifs.\n",
        "* Vous devriez l'utiliser lorsque vous vous souciez autant des classes positives que négatives. Elle prolonge naturellement la discussion sur les données déséquilibrées de la dernière section. Si nous nous préoccupons des vrais négatifs autant que des vrais positifs, il est tout à fait logique d'utiliser ROC "
      ]
    },
    {
      "cell_type": "markdown",
      "id": "0128f95c",
      "metadata": {
        "id": "0128f95c"
      },
      "source": [
        "### 1.5 Your turn ! "
      ]
    },
    {
      "cell_type": "markdown",
      "id": "99a6f8f6",
      "metadata": {
        "id": "99a6f8f6"
      },
      "source": [
        "**C'est à votre tour d'entraîner un modèle avec l'algorithme SVM et ensuite un algorithme d'arbre de décision. Gardez le même preprocessing des données et la même répartition train-test pour chaque modèle et comparez les métriques d'évaluation que vous obtenez ! \n",
        "Quel modèle est le plus performant ? Justifiez "
      ]
    },
    {
      "cell_type": "code",
      "execution_count": null,
      "id": "5bbda28c",
      "metadata": {
        "id": "5bbda28c"
      },
      "outputs": [],
      "source": []
    },
    {
      "cell_type": "code",
      "execution_count": null,
      "id": "b3033475",
      "metadata": {
        "id": "b3033475"
      },
      "outputs": [],
      "source": []
    },
    {
      "cell_type": "markdown",
      "id": "e5fe02c7",
      "metadata": {
        "id": "e5fe02c7"
      },
      "source": [
        "## 2. Underfitting vs Overfitting "
      ]
    },
    {
      "cell_type": "markdown",
      "id": "fd7aa830",
      "metadata": {
        "id": "fd7aa830"
      },
      "source": [
        "Le but de notre algorithme d'apprentissage automatique est d'être capable de modéliser la relation entre nos caractéristiques afin de faire des prédictions précises.\n",
        "\n",
        "Mais pour que notre modèle soit capable de \"trouver notre relation globale\", il est essentiel que les hyperparamètres soient bien réglés. \n",
        "\n",
        "En effet, si nous essayons d'avoir le meilleur modèle adapté à notre ensemble d'apprentissage, nous risquons de **sur-ajuster** le modèle. Dans ce scénario, le modèle apprendrait les données d'apprentissage \"par cœur\" et ne serait pas en mesure de généraliser correctement sur les données de test. \n",
        "\n",
        "D'autre part, si notre modèle est trop large et qu'il ne capture aucune relation, nous risquons de **underfit** notre modèle. Dans ce scénario, le modèle aura de mauvais résultats sur les données de formation ET les données de test. \n",
        "\n",
        "L'image suivante explique très bien ces scénarios :"
      ]
    },
    {
      "cell_type": "markdown",
      "id": "b905832c",
      "metadata": {
        "id": "b905832c"
      },
      "source": [
        "<img src=\"model-over-fitting.png\" alt=\"overfit_underfit\" style=\"width: 400px;\"/>\n",
        "\n",
        "Image Source: https://www.ibm.com/cloud/learn/overfitting"
      ]
    },
    {
      "cell_type": "markdown",
      "id": "6801f26d",
      "metadata": {
        "id": "6801f26d"
      },
      "source": [
        "Afin d'obtenir un modèle optimal, nous voulons tracer l'évolution de notre erreur de training et de notre erreur de test, en fonction de notre hyperparamètre, afin de voir où ces deux erreurs sont les plus faibles.\n",
        "\n",
        "Pour KNN, l'hyperparamètre que nous voulons ajuster est le nombre de voisins."
      ]
    },
    {
      "cell_type": "code",
      "execution_count": null,
      "id": "621de637",
      "metadata": {
        "id": "621de637",
        "outputId": "8630678f-88f0-437c-bcdb-bb0a6f6c6881"
      },
      "outputs": [
        {
          "data": {
            "text/plain": [
              "[]"
            ]
          },
          "execution_count": 23,
          "metadata": {},
          "output_type": "execute_result"
        },
        {
          "data": {
            "image/png": "[encoded data removed]",
            "text/plain": [
              "<Figure size 432x288 with 1 Axes>"
            ]
          },
          "metadata": {
            "needs_background": "light"
          },
          "output_type": "display_data"
        }
      ],
      "source": [
        "import matplotlib.pyplot as plt\n",
        "hyperparam = [i for i in range(1,20)]\n",
        "accuracy_training = []\n",
        "accuracy_test = []\n",
        "\n",
        "for k in hyperparam:\n",
        "    #Training set\n",
        "    model = KNeighborsClassifier(n_neighbors=k)\n",
        "    model.fit(X_train, y_train)\n",
        "    y_pred = model.predict(X_train)\n",
        "    accuracy_training.append(accuracy_score(y_train, y_pred))\n",
        "    #test set\n",
        "    model = KNeighborsClassifier(n_neighbors=k)\n",
        "    model.fit(X_train, y_train)\n",
        "    y_pred = model.predict(X_test)\n",
        "    accuracy_test.append(accuracy_score(y_test, y_pred))\n",
        "    \n",
        "plt.plot(hyperparam, accuracy_training, label = \"accuracry_training\" )\n",
        "plt.plot(hyperparam, accuracy_test, label = \"accuracry_test\" )\n",
        "plt.title(\"Evolution of our accuracy rate given the number of neighbors in KNN\")\n",
        "plt.xlabel(\"number of neighbors\")\n",
        "plt.ylabel(\"accuracy\")\n",
        "plt.plot()"
      ]
    },
    {
      "cell_type": "markdown",
      "id": "69005d03",
      "metadata": {
        "id": "69005d03"
      },
      "source": [
        "Une bonne façon de réduire le risque d'overfitting lors du choix d'un modèle est d'utiliser la **k-fold-cross-validation**.\n",
        "\n",
        "L'idée est simple : nous divisons l'ensemble d'apprentissage en un certain nombre de sous-ensembles, appelés plis. Prenons l'exemple de cinq plis. Nous effectuons une série de cycles d'apprentissage et d'évaluation où, à chaque fois, nous nous entraînons sur 4 des plis et testons le 5e, appelé l'ensemble d'attente. Nous répétons ce cycle 5 fois, en utilisant à chaque fois un pli différent pour l'évaluation. À la fin, nous faisons la moyenne des scores pour chacun des plis afin de déterminer la performance globale d'un modèle donné. Cela nous permet d'optimiser le modèle avant son déploiement sans avoir à utiliser de données supplémentaires."
      ]
    },
    {
      "cell_type": "markdown",
      "id": "XG0-sYo5_XaM",
      "metadata": {
        "id": "XG0-sYo5_XaM"
      },
      "source": []
    },
    {
      "cell_type": "markdown",
      "id": "32e64af0",
      "metadata": {
        "id": "32e64af0"
      },
      "source": [
        "<img src=\"CrossValidation.png\" alt=\"cross_validation\" style=\"width: 400px;\"/>\n",
        "\n",
        "\n",
        "Image Source: https://stackoverflow.com/questions/31947183/how-to-implement-walk-forward-testing-in-sklearn"
      ]
    },
    {
      "cell_type": "code",
      "execution_count": null,
      "id": "92533979",
      "metadata": {
        "colab": {
          "base_uri": "https://localhost:8080/"
        },
        "id": "92533979",
        "outputId": "993c6d12-5ff1-4642-aa8a-679b36a09f2d"
      },
      "outputs": [
        {
          "name": "stdout",
          "output_type": "stream",
          "text": [
            "[0.66480447 0.70224719 0.7247191  0.73595506 0.7247191 ]\n",
            "0.71 accuracy with a standard deviation of 0.03\n"
          ]
        }
      ],
      "source": [
        "from sklearn.model_selection import cross_val_score\n",
        "model = KNeighborsClassifier(n_neighbors=3)\n",
        "scores = cross_val_score(model, X, y, cv=5)\n",
        "print(scores)\n",
        "print(\"%0.2f accuracy with a standard deviation of %0.2f\" % (scores.mean(), scores.std()))"
      ]
    },
    {
      "cell_type": "code",
      "execution_count": null,
      "id": "ZYmcKJKz_ZAe",
      "metadata": {
        "id": "ZYmcKJKz_ZAe"
      },
      "outputs": [],
      "source": [
        "from sklearn.model_selection import cross_val_score\n",
        "model = SVC(kernel=\"poly\", gamma=5)\n",
        "scores = cross_val_score(model, X, y, cv=5)\n",
        "print(scores)\n",
        "print(\"%0.2f accuracy with a standard deviation of %0.2f\" % (scores.mean(), scores.std()))"
      ]
    },
    {
      "cell_type": "markdown",
      "id": "d60dfbf8",
      "metadata": {
        "id": "d60dfbf8"
      },
      "source": [
        "Si nous dessinons notre graphique précédent en utilisant la 5-fold-cross-validation, nous obtenons :"
      ]
    },
    {
      "cell_type": "code",
      "execution_count": null,
      "id": "b7919eb2",
      "metadata": {
        "id": "b7919eb2",
        "outputId": "a16263f4-dd65-4807-fd90-6ae41e07967b"
      },
      "outputs": [
        {
          "data": {
            "image/png": "[encoded data removed]",
            "text/plain": [
              "<Figure size 432x288 with 1 Axes>"
            ]
          },
          "metadata": {
            "needs_background": "light"
          },
          "output_type": "display_data"
        }
      ],
      "source": [
        "hyperparam = [i for i in range(1,20)]\n",
        "mean_accuracy_test = []\n",
        "std_accuracy_test = []\n",
        "\n",
        "for k in hyperparam:\n",
        "    #test set\n",
        "    model = KNeighborsClassifier(n_neighbors=k)\n",
        "    scores = cross_val_score(model, X, y, cv=5)\n",
        "    mean_accuracy_test.append(scores.mean())\n",
        "    std_accuracy_test.append(scores.std())\n",
        "    \n",
        "\n",
        "plt.errorbar(hyperparam, mean_accuracy_test, yerr = std_accuracy_test, label = \"accuracry_test\" )\n",
        "plt.ylim(0, 1)\n",
        "\n",
        "plt.xlabel(\"number of neighbors\")\n",
        "plt.ylabel(\"accuracy\")\n",
        "plt.title(\"Evolution of our accuracy rate given the number of neighbors in KNN\")\n",
        "plt.show()"
      ]
    },
    {
      "cell_type": "markdown",
      "id": "515cc2fa",
      "metadata": {
        "id": "515cc2fa"
      },
      "source": [
        "Vous pouvez voir ici que lorsque nous utilisons la cross validation, connaitre notre nombre de voisins est moins important car les données d'entraînement sont mélangées. Donc pas de risque d'apprendre nos données d'entraînement par cœur !"
      ]
    },
    {
      "cell_type": "markdown",
      "id": "363efadf",
      "metadata": {
        "id": "363efadf"
      },
      "source": [
        "Mais l'overfitting ne doit pas être confondu avec la sélection de modèle !\n",
        "Nous choisissons un modèle prédictif en fonction de ses performances hors training set. C'est-à-dire, sa performance sur de nouvelles données non vues pendant la formation. Nous choisissons notre modèle en fonction de sa précision sur l'ensemble de données de test et de validation et non sur l'ensemble de données d'apprentissage."
      ]
    },
    {
      "cell_type": "markdown",
      "id": "338d855f",
      "metadata": {
        "id": "338d855f"
      },
      "source": [
        "D'autres méthodes pour éviter l'overfitting comprennent :\n",
        "   *  ensembling\n",
        "   * data augmentation\n",
        "   * data simplification \n",
        "   \n",
        "    \n",
        "Lecture complémentaire : https://corporatefinanceinstitute.com/resources/data-science/overfitting/"
      ]
    },
    {
      "cell_type": "markdown",
      "id": "09702744",
      "metadata": {
        "id": "09702744"
      },
      "source": [
        "### A votre tour ! \n",
        "\n",
        "**Tout en gardant le même préprocessing de données, essayez de trouver les meilleurs hyperparamètres pour un modèle SVM et un modèle d'arbre de décision (Decision Tree)**."
      ]
    },
    {
      "cell_type": "markdown",
      "id": "2dccebee",
      "metadata": {
        "id": "2dccebee"
      },
      "source": [
        "## 3. Pour aller plus loin"
      ]
    },
    {
      "cell_type": "markdown",
      "id": "75633a6d",
      "metadata": {
        "id": "75633a6d"
      },
      "source": [
        "Curse of dimensionality:\n",
        " * https://medium.com/analytics-vidhya/the-curse-of-dimensionality-and-its-cure-f9891ab72e5c\n",
        "\n",
        "Feature Selection:\n",
        "* https://www.simplilearn.com/tutorials/machine-learning-tutorial/feature-selection-in-machine-learning\n",
        "* https://www.analyticsvidhya.com/blog/2020/10/feature-selection-techniques-in-machine-learning/\n"
      ]
    },
    {
      "cell_type": "code",
      "execution_count": null,
      "id": "c65bd32a",
      "metadata": {
        "id": "c65bd32a"
      },
      "outputs": [],
      "source": []
    },
    {
      "cell_type": "code",
      "execution_count": null,
      "id": "fR_zFUS9DR5B",
      "metadata": {
        "id": "fR_zFUS9DR5B"
      },
      "outputs": [],
      "source": [
        "DOC SKLEARN SUR TREE / NEIGHBORD / CVS \n",
        "https://scikit-learn.org/stable/modules/generated/sklearn.neighbors.KNeighborsClassifier.html\n",
        "https://scikit-learn.org/stable/modules/generated/sklearn.tree.DecisionTreeClassifier.html?highlight=tree\n",
        "https://scikit-learn.org/stable/modules/generated/sklearn.svm.SVC.html?highlight=svc#sklearn.svm.SVC"
      ]
    }
  ],
  "metadata": {
    "colab": {
      "collapsed_sections": [
        "fe5f3216",
        "63845c91",
        "3f63b617",
        "20782660",
        "a0eb2f96",
        "0c7169bd",
        "d5c40c08",
        "52942e14",
        "0128f95c",
        "09702744"
      ],
      "provenance": []
    },
    "kernelspec": {
      "display_name": "Python 3 (ipykernel)",
      "language": "python",
      "name": "python3"
    },
    "language_info": {
      "codemirror_mode": {
        "name": "ipython",
        "version": 3
      },
      "file_extension": ".py",
      "mimetype": "text/x-python",
      "name": "python",
      "nbconvert_exporter": "python",
      "pygments_lexer": "ipython3",
      "version": "3.9.12"
    }
  },
  "nbformat": 4,
  "nbformat_minor": 5
}
